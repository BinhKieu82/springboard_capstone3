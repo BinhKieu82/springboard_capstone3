{
 "cells": [
  {
   "cell_type": "markdown",
   "metadata": {},
   "source": [
    "<h1><center>Vietnam Stock Market - Momentum Stategy</center></h1>\n",
    "<h3><i>Content:</i></h3>\n",
    "<h3>1. Problem statement</h3>\n",
    "  <li>What is momentum</li>\n",
    "  <li>Why & How you find it</li>\n",
    "<h3>2. Data wrangling & EDA</h3>\n",
    "  <li>Candidate selection</li>\n",
    "  <li>Historgram</li>\n",
    "  <li>View time series/cross sectional for pattern recognition</li>\n",
    "  <li>Bolinger band, high-low band (breakout)</li>\n",
    "  <li>Hypothesis refinement</li>\n",
    "<h3>3. Stategy design</h3>\n",
    "  <p>Risk model</p>\n",
    "  <p>Alpha model</p>\n",
    "  <p>Multi factor model</p>\n",
    "  <p>Value at risk (volatility sizing)</p>\n",
    "  <ul><li>Key metrics</li>\n",
    "    <ol><li>CARG</li>\n",
    "    <li>Standard Deviation</li>\n",
    "    <li>Downside Deviation</li>\n",
    "    <li>Sharpe Ratio</li>\n",
    "    <li>Sortino Ratio (MAR = 5%)</li>\n",
    "    <li>Worst Drawdown</li>\n",
    "    <li>Best Month Return</li>\n",
    "    <li>Profitable Months</li></ol></ul>\n",
    "<h3>4. Backtesting</h3>\n",
    "<h3>5. Conclusion</h3>"
   ]
  },
  {
   "cell_type": "markdown",
   "metadata": {},
   "source": [
    "<h2>1. Problem statement</h2>  \n",
    "<b>Investors will continue to suffer behavioral bias</b>\n",
    "<p>Vietnam stock exchange is one of the most potential raising up players among frontier markets. The market is in the developing stage and lacking massive & advanced financial tools such as algo-trading (quantitative trading), an alternative of fundamental & technical analysis. Quant-trading with three main alpha factors: Value, Size, Momentum aiming an initial glance for investors on how the massive trading algorithm from the mature market is able to apply and beating the benchmark in frontier one.</p>\n",
    "\n",
    "<b>What is momentum</b>  \n",
    "<b>Why is momentum</b>  \n",
    "<b>How to find momentum patterns</b>  \n",
    "\n",
    "<p>To accomplish these tasks, the following steps need to be accomplished: Hypothesis construction; Data wrangling & EDA, Strategy design; Backtesting .</p>\n",
    "<p>The data was collected from the <a href=https://www.vndirect.com.vn/portal/thong-ke-thi-truong-chung-khoan/lich-su-gia.shtml>vndirect</a>\n",
    "& <a href=https://s.cafef.vn/Lich-su-giao-dich-VNINDEX-1.chn#data>cafef</a</p>"
   ]
  },
  {
   "cell_type": "markdown",
   "metadata": {},
   "source": [
    "<h2>2.  Data wrangling & EDA</h2>  "
   ]
  },
  {
   "cell_type": "code",
   "execution_count": 1,
   "metadata": {},
   "outputs": [],
   "source": [
    "import os\n",
    "import numpy as np\n",
    "import pandas as pd\n",
    "from scipy import stats\n",
    "import matplotlib.pyplot as plt\n",
    "import seaborn as sns\n",
    "import sqlalchemy\n",
    "import warnings\n",
    "\n",
    "warnings.filterwarnings('ignore')\n",
    "%matplotlib inline\n",
    "\n",
    "import datetime"
   ]
  },
  {
   "cell_type": "markdown",
   "metadata": {},
   "source": [
    "### Load Data\n",
    "The data we use for most of the projects is end of day data. This contains data for 621 stocks, but we'll be looking at stocks in the VN100. We also made things a little easier to run by narrowing down our range of time period instead of using all of the data."
   ]
  },
  {
   "cell_type": "code",
   "execution_count": 3,
   "metadata": {},
   "outputs": [
    {
     "data": {
      "text/html": [
       "<div>\n",
       "<style scoped>\n",
       "    .dataframe tbody tr th:only-of-type {\n",
       "        vertical-align: middle;\n",
       "    }\n",
       "\n",
       "    .dataframe tbody tr th {\n",
       "        vertical-align: top;\n",
       "    }\n",
       "\n",
       "    .dataframe thead th {\n",
       "        text-align: right;\n",
       "    }\n",
       "</style>\n",
       "<table border=\"1\" class=\"dataframe\">\n",
       "  <thead>\n",
       "    <tr style=\"text-align: right;\">\n",
       "      <th></th>\n",
       "      <th>date</th>\n",
       "      <th>open</th>\n",
       "      <th>high</th>\n",
       "      <th>low</th>\n",
       "      <th>close</th>\n",
       "      <th>volume</th>\n",
       "      <th>unadjusted</th>\n",
       "      <th>putthrough</th>\n",
       "      <th>ticker</th>\n",
       "      <th>year</th>\n",
       "      <th>quarter</th>\n",
       "      <th>dividend</th>\n",
       "    </tr>\n",
       "  </thead>\n",
       "  <tbody>\n",
       "    <tr>\n",
       "      <th>0</th>\n",
       "      <td>2006-12-13</td>\n",
       "      <td>19.225752</td>\n",
       "      <td>19.225752</td>\n",
       "      <td>19.225752</td>\n",
       "      <td>19.225752</td>\n",
       "      <td>83530</td>\n",
       "      <td>400.0</td>\n",
       "      <td>0</td>\n",
       "      <td>FPT</td>\n",
       "      <td>2006</td>\n",
       "      <td>4</td>\n",
       "      <td>NaN</td>\n",
       "    </tr>\n",
       "    <tr>\n",
       "      <th>1</th>\n",
       "      <td>2006-12-14</td>\n",
       "      <td>20.187039</td>\n",
       "      <td>20.187039</td>\n",
       "      <td>20.187039</td>\n",
       "      <td>20.187039</td>\n",
       "      <td>280710</td>\n",
       "      <td>420.0</td>\n",
       "      <td>0</td>\n",
       "      <td>FPT</td>\n",
       "      <td>2006</td>\n",
       "      <td>4</td>\n",
       "      <td>NaN</td>\n",
       "    </tr>\n",
       "  </tbody>\n",
       "</table>\n",
       "</div>"
      ],
      "text/plain": [
       "         date       open       high        low      close  volume  unadjusted  \\\n",
       "0  2006-12-13  19.225752  19.225752  19.225752  19.225752   83530       400.0   \n",
       "1  2006-12-14  20.187039  20.187039  20.187039  20.187039  280710       420.0   \n",
       "\n",
       "   putthrough ticker  year  quarter  dividend  \n",
       "0           0    FPT  2006        4       NaN  \n",
       "1           0    FPT  2006        4       NaN  "
      ]
     },
     "execution_count": 3,
     "metadata": {},
     "output_type": "execute_result"
    }
   ],
   "source": [
    "engine = sqlalchemy.create_engine('sqlite:///' + 'vn621')\n",
    "# pd.read_sql('FPT', engine).head(2)\n",
    "# pd.read_sql('select * from FPT', engine)"
   ]
  },
  {
   "cell_type": "code",
   "execution_count": 27,
   "metadata": {},
   "outputs": [],
   "source": [
    "tickers = np.array(pd.read_sql(\"SELECT name FROM sqlite_master WHERE type='table'\",engine)).flatten()"
   ]
  },
  {
   "cell_type": "code",
   "execution_count": null,
   "metadata": {},
   "outputs": [],
   "source": []
  },
  {
   "cell_type": "markdown",
   "metadata": {},
   "source": [
    "<h2>3. Stategy design</h2>\n",
    "<h3>3.1. Key metrics</h3>"
   ]
  },
  {
   "cell_type": "markdown",
   "metadata": {},
   "source": [
    "<h5>CARG</h5>"
   ]
  },
  {
   "cell_type": "markdown",
   "metadata": {},
   "source": [
    "<h2>4. Backtesting</h2>"
   ]
  },
  {
   "cell_type": "markdown",
   "metadata": {},
   "source": [
    "<h2>5. Conclusion</h2>"
   ]
  },
  {
   "cell_type": "markdown",
   "metadata": {},
   "source": []
  }
 ],
 "metadata": {
  "interpreter": {
   "hash": "b4bb8b8d2cc883794a51857fbbb51c36637924a112e0ed7b23f7b7e3860b68ad"
  },
  "kernelspec": {
   "display_name": "Python 3.7.9 64-bit ('DS': conda)",
   "language": "python",
   "name": "python3"
  },
  "language_info": {
   "codemirror_mode": {
    "name": "ipython",
    "version": 3
   },
   "file_extension": ".py",
   "mimetype": "text/x-python",
   "name": "python",
   "nbconvert_exporter": "python",
   "pygments_lexer": "ipython3",
   "version": "3.7.9"
  },
  "orig_nbformat": 4
 },
 "nbformat": 4,
 "nbformat_minor": 2
}
